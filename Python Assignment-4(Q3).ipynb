{
 "cells": [
  {
   "cell_type": "code",
   "execution_count": 1,
   "id": "1722bc16",
   "metadata": {},
   "outputs": [],
   "source": [
    "# Write a Python program to square the elements of a list using map() function.\n",
    "\n",
    "\n",
    "\n",
    "# Sample List: [4, 5, 2, 9]\n",
    "\n",
    "# Square the elements of the list:\n",
    "\n",
    "# [16, 25, 4, 81]"
   ]
  },
  {
   "cell_type": "code",
   "execution_count": 2,
   "id": "4831ce97",
   "metadata": {},
   "outputs": [
    {
     "name": "stdout",
     "output_type": "stream",
     "text": [
      "Enter the list numbers : 4 5 2 9\n",
      "Sample List: [4, 5, 2, 9]\n",
      "Square the elements of the list: [16, 25, 4, 81]\n"
     ]
    }
   ],
   "source": [
    "Sample_List = list(map(int,input(\"Enter the list numbers : \").split()))\n",
    "print(\"Sample List:\",Sample_List)\n",
    "def square(num):\n",
    "    return num*num\n",
    "print('Square the elements of the list:',list(map(square,Sample_List)))"
   ]
  },
  {
   "cell_type": "code",
   "execution_count": null,
   "id": "51729331",
   "metadata": {},
   "outputs": [],
   "source": []
  }
 ],
 "metadata": {
  "kernelspec": {
   "display_name": "Python 3 (ipykernel)",
   "language": "python",
   "name": "python3"
  },
  "language_info": {
   "codemirror_mode": {
    "name": "ipython",
    "version": 3
   },
   "file_extension": ".py",
   "mimetype": "text/x-python",
   "name": "python",
   "nbconvert_exporter": "python",
   "pygments_lexer": "ipython3",
   "version": "3.10.9"
  }
 },
 "nbformat": 4,
 "nbformat_minor": 5
}
