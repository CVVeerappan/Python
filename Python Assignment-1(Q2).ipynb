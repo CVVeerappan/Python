{
 "cells": [
  {
   "cell_type": "code",
   "execution_count": 1,
   "id": "7657b449",
   "metadata": {},
   "outputs": [],
   "source": [
    "# Write a Python program that accepts a word from the user and reverse it.\n",
    "\n",
    "\n",
    "\n",
    "# Sample Test Case\n",
    "\n",
    "\n",
    "\n",
    "# Input : Edyoda\n",
    "\n",
    "# output: adoydE"
   ]
  },
  {
   "cell_type": "code",
   "execution_count": 2,
   "id": "a647b79f",
   "metadata": {},
   "outputs": [
    {
     "name": "stdout",
     "output_type": "stream",
     "text": [
      "Input : Edyoda\n",
      "output: adoydE\n"
     ]
    }
   ],
   "source": [
    "# Method-1:\n",
    "Input = str(input(\"Input : \"))\n",
    "print(\"output:\",Input[::-1])"
   ]
  },
  {
   "cell_type": "code",
   "execution_count": 3,
   "id": "d4f1a324",
   "metadata": {},
   "outputs": [
    {
     "name": "stdout",
     "output_type": "stream",
     "text": [
      "Input : Edyoda\n",
      "adoydE"
     ]
    }
   ],
   "source": [
    "# Method-2:\n",
    "Input = str(input(\"Input : \"))\n",
    "for i in range(len(Input)-1,-1,-1):\n",
    "    print(Input[i],end='')"
   ]
  },
  {
   "cell_type": "code",
   "execution_count": null,
   "id": "ceab60cf",
   "metadata": {},
   "outputs": [],
   "source": []
  }
 ],
 "metadata": {
  "kernelspec": {
   "display_name": "Python 3 (ipykernel)",
   "language": "python",
   "name": "python3"
  },
  "language_info": {
   "codemirror_mode": {
    "name": "ipython",
    "version": 3
   },
   "file_extension": ".py",
   "mimetype": "text/x-python",
   "name": "python",
   "nbconvert_exporter": "python",
   "pygments_lexer": "ipython3",
   "version": "3.10.9"
  }
 },
 "nbformat": 4,
 "nbformat_minor": 5
}
