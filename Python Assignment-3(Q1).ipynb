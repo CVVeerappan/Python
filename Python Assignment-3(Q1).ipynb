{
 "cells": [
  {
   "cell_type": "code",
   "execution_count": null,
   "id": "be617464",
   "metadata": {},
   "outputs": [],
   "source": [
    "# Write a Python function to sum all the numbers in a list.\n",
    "\n",
    "\n",
    "\n",
    "# Sample List : (8, 2, 3, 0, 7)\n",
    "\n",
    "# Expected Output : 20"
   ]
  },
  {
   "cell_type": "code",
   "execution_count": 4,
   "id": "b4f3c7e1",
   "metadata": {},
   "outputs": [
    {
     "name": "stdout",
     "output_type": "stream",
     "text": [
      "Enter a tuple : 8 2 3 0 7\n",
      "Sample List :  (8, 2, 3, 0, 7)\n"
     ]
    },
    {
     "data": {
      "text/plain": [
       "20"
      ]
     },
     "execution_count": 4,
     "metadata": {},
     "output_type": "execute_result"
    }
   ],
   "source": [
    "def sum_all(input_list):\n",
    "    sum1=0\n",
    "    for num in input_list:\n",
    "        sum1 = sum1 +num\n",
    "    return sum1\n",
    "\n",
    "input_list = tuple(map(int,input(\"Enter a tuple : \").split()))\n",
    "print(\"Sample List : \",input_list)\n",
    "sum_all(input_list)"
   ]
  },
  {
   "cell_type": "code",
   "execution_count": null,
   "id": "d65c3421",
   "metadata": {},
   "outputs": [],
   "source": []
  }
 ],
 "metadata": {
  "kernelspec": {
   "display_name": "Python 3 (ipykernel)",
   "language": "python",
   "name": "python3"
  },
  "language_info": {
   "codemirror_mode": {
    "name": "ipython",
    "version": 3
   },
   "file_extension": ".py",
   "mimetype": "text/x-python",
   "name": "python",
   "nbconvert_exporter": "python",
   "pygments_lexer": "ipython3",
   "version": "3.10.9"
  }
 },
 "nbformat": 4,
 "nbformat_minor": 5
}
