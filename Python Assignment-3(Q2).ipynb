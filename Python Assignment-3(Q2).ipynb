{
 "cells": [
  {
   "cell_type": "code",
   "execution_count": 1,
   "id": "dd0a5395",
   "metadata": {},
   "outputs": [],
   "source": [
    "# Write a Python program to reverse a string.\n",
    "\n",
    "\n",
    "\n",
    "# Sample String : \"1234abcd\"\n",
    "\n",
    "# Expected Output : \"dcba4321\""
   ]
  },
  {
   "cell_type": "code",
   "execution_count": 2,
   "id": "8e8bc8e8",
   "metadata": {},
   "outputs": [
    {
     "name": "stdout",
     "output_type": "stream",
     "text": [
      "Sample String : \"1234abcd\"\n",
      "Expected Output : \"dcba4321\"\n"
     ]
    }
   ],
   "source": [
    "# Method-1:\n",
    "\n",
    "S_S = input(\"Sample String : \")\n",
    "reverse=S_S[::-1]\n",
    "print('Expected Output :',reverse)"
   ]
  },
  {
   "cell_type": "code",
   "execution_count": 3,
   "id": "59ccaf26",
   "metadata": {},
   "outputs": [
    {
     "name": "stdout",
     "output_type": "stream",
     "text": [
      "Sample String : \"1234abcd\"\n",
      "\"dcba4321\"\n"
     ]
    }
   ],
   "source": [
    "# Method-2:\n",
    "def reverse(Sample_String):\n",
    "    string = str(Sample_String)\n",
    "    reverse = string[::-1]\n",
    "    return''.join(reverse)\n",
    "Sample_String = input(\"Sample String : \")\n",
    "print(reverse(Sample_String))"
   ]
  },
  {
   "cell_type": "code",
   "execution_count": null,
   "id": "8adeccfc",
   "metadata": {},
   "outputs": [],
   "source": []
  }
 ],
 "metadata": {
  "kernelspec": {
   "display_name": "Python 3 (ipykernel)",
   "language": "python",
   "name": "python3"
  },
  "language_info": {
   "codemirror_mode": {
    "name": "ipython",
    "version": 3
   },
   "file_extension": ".py",
   "mimetype": "text/x-python",
   "name": "python",
   "nbconvert_exporter": "python",
   "pygments_lexer": "ipython3",
   "version": "3.10.9"
  }
 },
 "nbformat": 4,
 "nbformat_minor": 5
}
