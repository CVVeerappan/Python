{
 "cells": [
  {
   "cell_type": "markdown",
   "id": "88ad9fe6",
   "metadata": {},
   "source": [
    "# Problem-1"
   ]
  },
  {
   "cell_type": "code",
   "execution_count": 1,
   "id": "f6e63311",
   "metadata": {},
   "outputs": [],
   "source": [
    "def nick(inp1,inp2):\n",
    "    u_marks = set(inp2)\n",
    "    \n",
    "    if len(u_marks) != inp1:\n",
    "        return 0\n",
    "    \n",
    "    minimum_mark = min(u_marks)\n",
    "    maximum_mark = max(u_marks)\n",
    "    \n",
    "    if maximum_mark - minimum_mark +1 == inp1:\n",
    "        return 1\n",
    "    else:\n",
    "        return 0"
   ]
  },
  {
   "cell_type": "code",
   "execution_count": 2,
   "id": "fd3060ba",
   "metadata": {},
   "outputs": [
    {
     "name": "stdout",
     "output_type": "stream",
     "text": [
      "1\n",
      "0\n"
     ]
    }
   ],
   "source": [
    "print(nick(6,{3,7,2,5,4,6}))\n",
    "print(nick(6,{1,9,2,4,0,3}))"
   ]
  },
  {
   "cell_type": "markdown",
   "id": "99ea9b79",
   "metadata": {},
   "source": [
    "## Problem-2"
   ]
  },
  {
   "cell_type": "code",
   "execution_count": 3,
   "id": "7815c5fa",
   "metadata": {},
   "outputs": [],
   "source": [
    "def eval_pf(inp1):\n",
    "    stack = []\n",
    "    \n",
    "    for word in inp1:\n",
    "        if word.isdigit():\n",
    "            stack.append(int(word))\n",
    "        else:\n",
    "            b= stack.pop()\n",
    "            a= stack.pop()\n",
    "            if word == '+':\n",
    "                stack.append(a + b)\n",
    "            elif  word == '-':\n",
    "                stack.append(a - b) \n",
    "            elif  word == '*':\n",
    "                stack.append(a * b)\n",
    "            elif  word == '/':\n",
    "                stack.append(a // b) \n",
    "\n",
    "    return stack[0] if stack else 0            \n",
    "                "
   ]
  },
  {
   "cell_type": "code",
   "execution_count": 4,
   "id": "c48ab3d2",
   "metadata": {},
   "outputs": [
    {
     "name": "stdout",
     "output_type": "stream",
     "text": [
      "4\n",
      "4\n"
     ]
    }
   ],
   "source": [
    "print(eval_pf('84-'))\n",
    "print(eval_pf('879-2*+'))"
   ]
  },
  {
   "cell_type": "markdown",
   "id": "cfe38921",
   "metadata": {},
   "source": [
    "## Problem-3"
   ]
  },
  {
   "cell_type": "code",
   "execution_count": 5,
   "id": "cf69355e",
   "metadata": {},
   "outputs": [],
   "source": [
    "def count_inversions(points):\n",
    "    def merge_sort(arr):\n",
    "        if len(arr) <= 1:\n",
    "            return arr, 0\n",
    "        \n",
    "        mid = len(arr) // 2\n",
    "        left, inv_left = merge_sort(arr[:mid])\n",
    "        right, inv_right = merge_sort(arr[mid:])\n",
    "        \n",
    "        merged, count = merge(left, right)\n",
    "        total_inv = inv_left + inv_right + count\n",
    "        return merged, total_inv\n",
    "\n",
    "    def merge(left, right):\n",
    "        result = []\n",
    "        i = j = count = 0\n",
    "        while i < len(left) and j < len(right):\n",
    "            if left[i] <= right[j]:\n",
    "                result.append(left[i])\n",
    "                i += 1\n",
    "            else:\n",
    "                result.append(right[j])\n",
    "                count += len(left) - i  \n",
    "                j += 1\n",
    "        result.extend(left[i:])\n",
    "        result.extend(right[j:])\n",
    "        return result, count\n",
    "\n",
    "    _, total_inversions = merge_sort(points)\n",
    "    return total_inversions\n"
   ]
  },
  {
   "cell_type": "code",
   "execution_count": 6,
   "id": "28a31e0c",
   "metadata": {},
   "outputs": [
    {
     "name": "stdout",
     "output_type": "stream",
     "text": [
      "20\n"
     ]
    }
   ],
   "source": [
    "input1 = 10\n",
    "input2 = [1, 2, 7, 5, 7, 4, 1, 1, 2, 5]\n",
    "\n",
    "print(count_inversions(input2))  # Output: 20\n"
   ]
  },
  {
   "cell_type": "code",
   "execution_count": 7,
   "id": "1cb0bd09",
   "metadata": {},
   "outputs": [
    {
     "name": "stdout",
     "output_type": "stream",
     "text": [
      "2\n"
     ]
    }
   ],
   "source": [
    "\n",
    "input1= 5\n",
    "input2= [1,1,3,6,2]\n",
    "print(count_inversions(input2))  # Output: 2"
   ]
  },
  {
   "cell_type": "code",
   "execution_count": null,
   "id": "db97eaf7",
   "metadata": {},
   "outputs": [],
   "source": []
  }
 ],
 "metadata": {
  "kernelspec": {
   "display_name": "Python 3 (ipykernel)",
   "language": "python",
   "name": "python3"
  },
  "language_info": {
   "codemirror_mode": {
    "name": "ipython",
    "version": 3
   },
   "file_extension": ".py",
   "mimetype": "text/x-python",
   "name": "python",
   "nbconvert_exporter": "python",
   "pygments_lexer": "ipython3",
   "version": "3.10.9"
  }
 },
 "nbformat": 4,
 "nbformat_minor": 5
}
